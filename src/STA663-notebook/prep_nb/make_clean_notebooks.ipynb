{
 "cells": [
  {
   "cell_type": "markdown",
   "metadata": {},
   "source": [
    "Strip code cells from workshop notebooks"
   ]
  },
  {
   "cell_type": "code",
   "execution_count": null,
   "metadata": {
    "collapsed": false
   },
   "outputs": [],
   "source": [
    "# CLEANDIR=\"$HOME/work/bioinf_nb_ngscourse2015/bioinf_clean_nb\"\n",
    "# SOURCEDIR=\"$HOME/work/ibiem_nb/bootcamp/swc_shell/_episodes\"\n",
    "# CLEANDIR=\"$SOURCEDIR\"\n",
    "\n",
    "# mkdir -p $CLEANDIR\n"
   ]
  },
  {
   "cell_type": "code",
   "execution_count": null,
   "metadata": {
    "collapsed": false
   },
   "outputs": [],
   "source": [
    "pwd"
   ]
  },
  {
   "cell_type": "code",
   "execution_count": null,
   "metadata": {
    "collapsed": false
   },
   "outputs": [],
   "source": [
    "SOURCEDIR=\"$HOME/work/ibiem_nb/bootcamp/swc_shell/_episodes\"\n",
    "CLEANDIR=\"$SOURCEDIR\"\n",
    "find $SOURCEDIR -name \"*.ipynb\" | \\\n",
    "    grep -v \".ipynb_checkpoints\" | \\\n",
    "    grep -v \"_clean.ipynb\" | \\\n",
    "    xargs -n1 python2 strip_code_blocks.py -d $CLEANDIR"
   ]
  },
  {
   "cell_type": "code",
   "execution_count": null,
   "metadata": {
    "collapsed": false
   },
   "outputs": [],
   "source": [
    "SOURCEDIR=\"$HOME/work/ibiem_nb/bootcamp/filled_nb\"\n",
    "CLEANDIR=\"$SOURCEDIR\"\n",
    "find $SOURCEDIR -name \"*.ipynb\" | \\\n",
    "    grep -v \".ipynb_checkpoints\" | \\\n",
    "    grep -v \"_clean.ipynb\" | \\\n",
    "    xargs -n1 python2 strip_code_blocks.py -d $CLEANDIR"
   ]
  },
  {
   "cell_type": "code",
   "execution_count": null,
   "metadata": {
    "collapsed": false
   },
   "outputs": [],
   "source": [
    "SOURCEDIR=\"$HOME/work/ibiem_nb/bootcamp/swc_r-novice-inflammation/_episodes_rmd\"\n",
    "CLEANDIR=\"$SOURCEDIR\"\n",
    "find $SOURCEDIR -name \"*.ipynb\" | \\\n",
    "    grep -v \".ipynb_checkpoints\" | \\\n",
    "    grep -v \"_clean.ipynb\" | \\\n",
    "    xargs -n1 python2 strip_code_blocks.py -d $CLEANDIR"
   ]
  },
  {
   "cell_type": "code",
   "execution_count": null,
   "metadata": {
    "collapsed": false
   },
   "outputs": [],
   "source": [
    "ls $HOME/work/ibiem_nb/bootcamp/swc_r-novice-inflammation/_episodes_rmd"
   ]
  }
 ],
 "metadata": {
  "kernelspec": {
   "display_name": "Bash",
   "language": "bash",
   "name": "bash"
  },
  "language_info": {
   "codemirror_mode": "shell",
   "file_extension": ".sh",
   "mimetype": "text/x-sh",
   "name": "bash"
  }
 },
 "nbformat": 4,
 "nbformat_minor": 0
}
