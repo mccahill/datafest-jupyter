{
 "cells": [
  {
   "cell_type": "code",
   "execution_count": null,
   "metadata": {
    "collapsed": true
   },
   "outputs": [],
   "source": [
    "#  pip install --user notedown"
   ]
  },
  {
   "cell_type": "markdown",
   "metadata": {},
   "source": [
    "# Bash Notebooks"
   ]
  },
  {
   "cell_type": "code",
   "execution_count": null,
   "metadata": {
    "collapsed": false
   },
   "outputs": [],
   "source": [
    "ls -1 /home/jovyan/work/swc/shell-novice/_episodes                                                                "
   ]
  },
  {
   "cell_type": "code",
   "execution_count": null,
   "metadata": {
    "collapsed": true
   },
   "outputs": [],
   "source": [
    "cd /home/jovyan/work/swc/shell-novice/_episodes\n",
    "\\ls -1 *.md | xargs -I % -n1 bash -c \"/home/bitnami/.local/bin/notedown % \""
   ]
  },
  {
   "cell_type": "code",
   "execution_count": null,
   "metadata": {
    "collapsed": false
   },
   "outputs": [],
   "source": [
    "cd /home/jovyan/work/swc/shell-novice/_episodes\n",
    "\\ls -1 *.md | xargs -I % -n1 ~/.local/bin/notedown % --from markdown --to notebook -o"
   ]
  },
  {
   "cell_type": "code",
   "execution_count": null,
   "metadata": {
    "collapsed": false
   },
   "outputs": [],
   "source": [
    "~/.local/bin/notedown"
   ]
  },
  {
   "cell_type": "markdown",
   "metadata": {},
   "source": [
    "# R Inflammation Notebooks"
   ]
  },
  {
   "cell_type": "code",
   "execution_count": null,
   "metadata": {
    "collapsed": false
   },
   "outputs": [],
   "source": [
    "ls -1 /home/jovyan/work/swc/r-novice-inflammation/_episodes"
   ]
  },
  {
   "cell_type": "code",
   "execution_count": null,
   "metadata": {
    "collapsed": false
   },
   "outputs": [],
   "source": [
    "ls -1 /home/jovyan/work/swc/r-novice-inflammation/_episodes_rmd"
   ]
  },
  {
   "cell_type": "code",
   "execution_count": null,
   "metadata": {
    "collapsed": false
   },
   "outputs": [],
   "source": [
    "IN=\"/home/jovyan/work/swc/r-novice-inflammation/_episodes\"\n",
    "OUT=\"/home/jovyan/work/ibiem_nb/bootcamp/md_swc_r-novice-inflammation\"\n",
    "EXT=\".md\"\n",
    "mkdir -p $OUT\n",
    "cd $IN\n",
    "\n",
    "\\ls -1 *${EXT} | sed s/\\.md$// | \\\n",
    "    xargs -I % -n1 \\\n",
    "    ~/.local/bin/notedown %${EXT} --from markdown --to notebook -o $OUT/%.ipynb\n",
    "    # echo \"~/.local/bin/notedown %${EXT} --from markdown --to notebook -o \"\n",
    "    # echo %\n",
    "    # echo %${EXT} $OUT/%.ipynb\n"
   ]
  },
  {
   "cell_type": "code",
   "execution_count": null,
   "metadata": {
    "collapsed": false
   },
   "outputs": [],
   "source": [
    "rm $IN/*.ipynb"
   ]
  },
  {
   "cell_type": "code",
   "execution_count": null,
   "metadata": {
    "collapsed": false
   },
   "outputs": [],
   "source": [
    "ls $IN"
   ]
  },
  {
   "cell_type": "code",
   "execution_count": null,
   "metadata": {
    "collapsed": false
   },
   "outputs": [],
   "source": [
    "IN=\"/home/jovyan/work/swc/r-novice-inflammation/_episodes_rmd\"\n",
    "OUT=\"/home/jovyan/work/ibiem_nb/bootcamp/rmd_swc_r-novice-inflammation\"\n",
    "EXT=\".Rmd\"\n",
    "mkdir -p $OUT\n",
    "cd $IN\n",
    "\n",
    "\\ls -1 *${EXT} | sed s/\\.Rmd$// | \\\n",
    "    xargs -I % -n1 \\\n",
    "    ~/.local/bin/notedown %${EXT} --from markdown --to notebook -o $OUT/%.ipynb\n",
    "    # echo \"~/.local/bin/notedown %${EXT} --from markdown --to notebook -o \"\n",
    "    # echo %\n",
    "    # echo %${EXT} $OUT/%.ipynb\n"
   ]
  },
  {
   "cell_type": "code",
   "execution_count": null,
   "metadata": {
    "collapsed": false
   },
   "outputs": [],
   "source": [
    "ls $OUT"
   ]
  },
  {
   "cell_type": "code",
   "execution_count": null,
   "metadata": {
    "collapsed": false
   },
   "outputs": [],
   "source": [
    "ls $IN/data\n",
    "ls $OUT\n",
    "cp -a $IN/data $OUT\n",
    "# cp -a _episodes_rmd/data /home/jovyan/work/ibiem_nb/bootcamp/rmd_swc_r-novice-inflammation"
   ]
  },
  {
   "cell_type": "code",
   "execution_count": null,
   "metadata": {
    "collapsed": false
   },
   "outputs": [],
   "source": [
    "ls $OUT/data\n"
   ]
  },
  {
   "cell_type": "code",
   "execution_count": null,
   "metadata": {
    "collapsed": false
   },
   "outputs": [],
   "source": [
    "cp -a $IN/../fig $OUT/.."
   ]
  },
  {
   "cell_type": "code",
   "execution_count": null,
   "metadata": {
    "collapsed": false
   },
   "outputs": [],
   "source": [
    "ls $OUT/../fig"
   ]
  },
  {
   "cell_type": "markdown",
   "metadata": {},
   "source": [
    "# R gapminder Notebooks"
   ]
  },
  {
   "cell_type": "code",
   "execution_count": null,
   "metadata": {
    "collapsed": false
   },
   "outputs": [],
   "source": [
    "IN=\"/home/jovyan/work/swc/r-novice-gapminder/_episodes_rmd\"\n",
    "OUT=\"/home/jovyan/work/ibiem_nb/bootcamp/swc_r-novice-gapminder\"\n",
    "EXT=\".Rmd\"\n",
    "mkdir -p $OUT\n",
    "cd $IN\n",
    "\n",
    "\\ls -1 *${EXT} | sed s/\\.Rmd$// | \\\n",
    "    xargs -I % -n1 \\\n",
    "    ~/.local/bin/notedown %${EXT} --from markdown --to notebook -o $OUT/%.ipynb\n",
    "    # echo \"~/.local/bin/notedown %${EXT} --from markdown --to notebook -o \"\n",
    "    # echo %\n",
    "    # echo %${EXT} $OUT/%.ipynb\n"
   ]
  },
  {
   "cell_type": "code",
   "execution_count": null,
   "metadata": {
    "collapsed": true
   },
   "outputs": [],
   "source": []
  }
 ],
 "metadata": {
  "kernelspec": {
   "display_name": "Bash",
   "language": "bash",
   "name": "bash"
  },
  "language_info": {
   "codemirror_mode": "shell",
   "file_extension": ".sh",
   "mimetype": "text/x-sh",
   "name": "bash"
  }
 },
 "nbformat": 4,
 "nbformat_minor": 0
}
